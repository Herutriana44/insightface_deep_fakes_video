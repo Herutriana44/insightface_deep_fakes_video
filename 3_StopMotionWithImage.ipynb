{
  "nbformat": 4,
  "nbformat_minor": 0,
  "metadata": {
    "colab": {
      "provenance": []
    },
    "kernelspec": {
      "name": "python3",
      "display_name": "Python 3"
    },
    "language_info": {
      "name": "python"
    }
  },
  "cells": [
    {
      "cell_type": "code",
      "source": [
        "#@title Permission Untuk Akses Google Drive\n",
        "\n",
        "from google.colab import drive\n",
        "drive.mount('/content/drive')"
      ],
      "metadata": {
        "colab": {
          "base_uri": "https://localhost:8080/"
        },
        "id": "VELcplMsEQJy",
        "outputId": "baa8c8d6-1ce4-40d3-cc14-9a8046f7df6c"
      },
      "execution_count": null,
      "outputs": [
        {
          "output_type": "stream",
          "name": "stdout",
          "text": [
            "Mounted at /content/drive\n"
          ]
        }
      ]
    },
    {
      "cell_type": "code",
      "source": [
        "#@title basis direktori/folder di drive\n",
        "base_dir = \"/content/drive/My Drive/Raja Kamen Rider/\" #@param"
      ],
      "metadata": {
        "id": "MZFkMNlGERq6"
      },
      "execution_count": null,
      "outputs": []
    },
    {
      "cell_type": "code",
      "source": [
        "from collections import OrderedDict\n",
        "\n",
        "def urut_dict_berdasarkan_key(dictionary):\n",
        "  \"\"\"Mengurutkan dictionary berdasarkan key.\n",
        "\n",
        "  Args:\n",
        "    dictionary: Dictionary yang akan diurutkan.\n",
        "\n",
        "  Returns:\n",
        "    OrderedDict: Dictionary yang sudah terurut berdasarkan key.\n",
        "  \"\"\"\n",
        "\n",
        "  # Pendekatan 1: Mengubah ke list of tuples\n",
        "  # sorted_items = sorted(dictionary.items())\n",
        "  # sorted_dict = dict(sorted_items)\n",
        "\n",
        "  # Pendekatan 2: Menggunakan sorted() dengan itemgetter\n",
        "  # from operator import itemgetter\n",
        "  # sorted_dict = dict(sorted(dictionary.items(), key=itemgetter(0)))\n",
        "\n",
        "  # Pendekatan 3: Menggunakan OrderedDict\n",
        "  sorted_dict = OrderedDict(sorted(dictionary.items()))\n",
        "\n",
        "  return sorted_dict\n",
        "\n",
        "# Contoh penggunaan\n",
        "my_dict = {'b': 2, 'a': 1, 'c': 3}\n",
        "sorted_dict = urut_dict_berdasarkan_key(my_dict)\n",
        "print(sorted_dict)  # Output: OrderedDict([('a', 1), ('b', 2), ('c', 3)])"
      ],
      "metadata": {
        "colab": {
          "base_uri": "https://localhost:8080/"
        },
        "id": "ReSjEBql34-l",
        "outputId": "524586ee-84dd-4b76-f78d-b072e60aa61f"
      },
      "execution_count": null,
      "outputs": [
        {
          "output_type": "stream",
          "name": "stdout",
          "text": [
            "OrderedDict([('a', 1), ('b', 2), ('c', 3)])\n"
          ]
        }
      ]
    },
    {
      "cell_type": "code",
      "execution_count": null,
      "metadata": {
        "id": "4PmzlaViyMjH"
      },
      "outputs": [],
      "source": [
        "import os\n",
        "import moviepy.video.io.ImageSequenceClip\n",
        "#@markdown namefolder merujuk ke folder yang berisi folder frame-frame hasil swap face\n",
        "namefolder = \"frame_fake\" #@param\n",
        "\n",
        "image_folder=base_dir + namefolder\n",
        "fps=30\n",
        "image_files = [os.path.join(image_folder,img)\n",
        "               for img in os.listdir(image_folder)\n",
        "               if img.endswith(\".jpg\")] # pastikan ekstensi gambarnya sesuai dengan frame-frame yang ada"
      ]
    },
    {
      "cell_type": "code",
      "source": [
        "len(image_files)"
      ],
      "metadata": {
        "colab": {
          "base_uri": "https://localhost:8080/"
        },
        "id": "bYGFfA3DF1fR",
        "outputId": "540b946b-e89b-4588-f14a-f856fa731e07"
      },
      "execution_count": null,
      "outputs": [
        {
          "output_type": "execute_result",
          "data": {
            "text/plain": [
              "1641"
            ]
          },
          "metadata": {},
          "execution_count": 6
        }
      ]
    },
    {
      "cell_type": "code",
      "source": [
        "len(os.listdir(image_folder))"
      ],
      "metadata": {
        "colab": {
          "base_uri": "https://localhost:8080/"
        },
        "id": "ZiUv6GZFFkY5",
        "outputId": "4a12e8be-480b-4b6e-a906-1efbb9239757"
      },
      "execution_count": null,
      "outputs": [
        {
          "output_type": "execute_result",
          "data": {
            "text/plain": [
              "1641"
            ]
          },
          "metadata": {},
          "execution_count": 7
        }
      ]
    },
    {
      "cell_type": "code",
      "source": [
        "image_files = {int(y.replace(f\"{namefolder}/\",\"\").split(\"_\")[1].replace(\".jpg\", \"\")):y for x,y in enumerate(image_files)}\n",
        "image_files = urut_dict_berdasarkan_key(image_files)\n",
        "image_files = [y for x,y in image_files.items()]"
      ],
      "metadata": {
        "id": "TOgUsd2ZPbgo"
      },
      "execution_count": null,
      "outputs": []
    },
    {
      "cell_type": "code",
      "source": [
        "\n",
        "#@title membuat frame by frame menjadi video\n",
        "clip = moviepy.video.io.ImageSequenceClip.ImageSequenceClip(image_files, fps=fps)\n",
        "clip.write_videofile(base_dir+'fake_video.mp4')"
      ],
      "metadata": {
        "id": "08J0Tb-t2rWa",
        "colab": {
          "base_uri": "https://localhost:8080/"
        },
        "outputId": "0f376cdb-aa33-408e-947b-61e4b8fb84c8"
      },
      "execution_count": null,
      "outputs": [
        {
          "output_type": "stream",
          "name": "stdout",
          "text": [
            "Moviepy - Building video /content/drive/My Drive/Raja Kamen Rider/fake_video.mp4.\n",
            "Moviepy - Writing video /content/drive/My Drive/Raja Kamen Rider/fake_video.mp4\n",
            "\n"
          ]
        },
        {
          "output_type": "stream",
          "name": "stderr",
          "text": []
        },
        {
          "output_type": "stream",
          "name": "stdout",
          "text": [
            "Moviepy - Done !\n",
            "Moviepy - video ready /content/drive/My Drive/Raja Kamen Rider/fake_video.mp4\n"
          ]
        }
      ]
    },
    {
      "cell_type": "code",
      "source": [
        "\n",
        "#@title mengubah format video original menjadi mp3 untuk dijadikan sound hasil deepfake\n",
        "\n",
        "from moviepy.editor import *\n",
        "\n",
        "def convert_video_to_mp3(video_file, audio_file):\n",
        "  \"\"\"\n",
        "  Mengubah video menjadi file audio MP3.\n",
        "\n",
        "  Args:\n",
        "    video_file: Path ke file video.\n",
        "    audio_file: Path ke file audio yang akan disimpan.\n",
        "  \"\"\"\n",
        "\n",
        "  # Membaca file video\n",
        "  video_clip = VideoFileClip(video_file)\n",
        "\n",
        "  # Mengekstrak audio dari video\n",
        "  audio_clip = video_clip.audio\n",
        "\n",
        "  # Menyimpan audio sebagai file MP3\n",
        "  audio_clip.write_audiofile(audio_file)\n",
        "\n",
        "  # Menutup objek video dan audio\n",
        "  video_clip.close()\n",
        "  audio_clip.close()\n",
        "\n",
        "# Contoh penggunaan\n",
        "video_path = base_dir + \"YouCut_20240908_215013482.mp4\"  # Ganti dengan path video Anda\n",
        "audio_path = video_path + \".mp3\"  # Ganti dengan path output audio Anda\n",
        "\n",
        "convert_video_to_mp3(video_path, audio_path)"
      ],
      "metadata": {
        "id": "0UjOMvRoEvk6",
        "colab": {
          "base_uri": "https://localhost:8080/"
        },
        "outputId": "1dda9d3e-9403-4bf9-fb93-06d34cece39b"
      },
      "execution_count": null,
      "outputs": [
        {
          "output_type": "stream",
          "name": "stdout",
          "text": [
            "MoviePy - Writing audio in /content/drive/My Drive/Raja Kamen Rider/YouCut_20240908_215013482.mp4.mp3\n"
          ]
        },
        {
          "output_type": "stream",
          "name": "stderr",
          "text": []
        },
        {
          "output_type": "stream",
          "name": "stdout",
          "text": [
            "MoviePy - Done.\n"
          ]
        }
      ]
    },
    {
      "cell_type": "code",
      "source": [
        "#@title menggabungkan video dengan audio\n",
        "\n",
        "from moviepy.editor import *\n",
        "\n",
        "def gabungkan_video_audio(video_file, audio_file, output_file):\n",
        "  \"\"\"\n",
        "  Menggabungkan video dan audio menjadi satu file video.\n",
        "\n",
        "  Args:\n",
        "    video_file: Path ke file video.\n",
        "    audio_file: Path ke file audio.\n",
        "    output_file: Path ke file video output.\n",
        "  \"\"\"\n",
        "\n",
        "  # Membaca file video\n",
        "  videoclip = VideoFileClip(video_file)\n",
        "\n",
        "  # Membaca file audio\n",
        "  audioclip = AudioFileClip(audio_file)\n",
        "\n",
        "  # Mengganti audio video dengan audio baru\n",
        "  videoclip.audio = audioclip\n",
        "\n",
        "  # Menyimpan video dengan audio baru\n",
        "  videoclip.write_videofile(output_file)\n",
        "\n",
        "  # Menutup objek video dan audio\n",
        "  videoclip.close()\n",
        "  audioclip.close()\n",
        "\n",
        "# Contoh penggunaan\n",
        "video_path = base_dir+'fake_video.mp4'\n",
        "audio_path = audio_path\n",
        "output_path = base_dir+'fake_video_completed.mp4'\n",
        "\n",
        "gabungkan_video_audio(video_path, audio_path, output_path)"
      ],
      "metadata": {
        "id": "F2dvnJ6bFhQy",
        "colab": {
          "base_uri": "https://localhost:8080/"
        },
        "outputId": "6c532594-1104-4935-f921-a692e5b4a431"
      },
      "execution_count": null,
      "outputs": [
        {
          "output_type": "stream",
          "name": "stdout",
          "text": [
            "Moviepy - Building video /content/drive/My Drive/Raja Kamen Rider/fake_video_completed.mp4.\n",
            "MoviePy - Writing audio in fake_video_completedTEMP_MPY_wvf_snd.mp3\n"
          ]
        },
        {
          "output_type": "stream",
          "name": "stderr",
          "text": []
        },
        {
          "output_type": "stream",
          "name": "stdout",
          "text": [
            "MoviePy - Done.\n",
            "Moviepy - Writing video /content/drive/My Drive/Raja Kamen Rider/fake_video_completed.mp4\n",
            "\n"
          ]
        },
        {
          "output_type": "stream",
          "name": "stderr",
          "text": []
        },
        {
          "output_type": "stream",
          "name": "stdout",
          "text": [
            "Moviepy - Done !\n",
            "Moviepy - video ready /content/drive/My Drive/Raja Kamen Rider/fake_video_completed.mp4\n"
          ]
        }
      ]
    }
  ]
}